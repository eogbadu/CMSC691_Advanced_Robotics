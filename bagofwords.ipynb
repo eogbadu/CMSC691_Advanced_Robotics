{
 "cells": [
  {
   "cell_type": "markdown",
   "id": "2962a65f",
   "metadata": {},
   "source": [
    "Import needed libraries"
   ]
  },
  {
   "cell_type": "code",
   "execution_count": 107,
   "id": "cce24377",
   "metadata": {},
   "outputs": [],
   "source": [
    "import pandas as pd\n",
    "import numpy as np\n",
    "from sklearn.feature_extraction.text import CountVectorizer\n",
    "from sklearn.ensemble import RandomForestClassifier\n",
    "import re\n",
    "import os\n",
    "import tokenizermodule as tm\n",
    "import matplotlib.pyplot as plt\n",
    "import seaborn as sns\n",
    "\n",
    "from sklearn.model_selection import train_test_split\n",
    "from sklearn.ensemble import RandomForestClassifier\n",
    "from sklearn.metrics import accuracy_score, confusion_matrix, classification_report\n",
    "%matplotlib inline"
   ]
  },
  {
   "cell_type": "markdown",
   "id": "16f7db7d",
   "metadata": {},
   "source": [
    "Import excel file with our input data"
   ]
  },
  {
   "cell_type": "code",
   "execution_count": 108,
   "id": "4e6ed95f",
   "metadata": {
    "scrolled": true
   },
   "outputs": [],
   "source": [
    "df = pd.read_excel(\"oneandtwowithfilepathtest.xlsx\")"
   ]
  },
  {
   "cell_type": "markdown",
   "id": "31c69ec5",
   "metadata": {},
   "source": [
    "Split the data set into features and labels"
   ]
  },
  {
   "cell_type": "code",
   "execution_count": 109,
   "id": "981d73dc",
   "metadata": {},
   "outputs": [],
   "source": [
    "Y = df[\"Dialogue Move\"]\n",
    "features = df[\"Commander\"]"
   ]
  },
  {
   "cell_type": "markdown",
   "id": "49840390",
   "metadata": {},
   "source": [
    "Print the labels value counts"
   ]
  },
  {
   "cell_type": "code",
   "execution_count": 110,
   "id": "8413ae47",
   "metadata": {
    "scrolled": true
   },
   "outputs": [
    {
     "name": "stdout",
     "output_type": "stream",
     "text": [
      "send image    1023\n",
      "move           965\n",
      "turn           893\n",
      "stop            69\n",
      "explore          8\n",
      "Name: Dialogue Move, dtype: int64\n"
     ]
    }
   ],
   "source": [
    "print(Y.value_counts())"
   ]
  },
  {
   "cell_type": "markdown",
   "id": "4d03998c",
   "metadata": {},
   "source": [
    "Get the number of sentences in the training data"
   ]
  },
  {
   "cell_type": "code",
   "execution_count": 111,
   "id": "6d06964b",
   "metadata": {},
   "outputs": [],
   "source": [
    "num_sentences = features.size"
   ]
  },
  {
   "cell_type": "markdown",
   "id": "62e3e24a",
   "metadata": {},
   "source": [
    "Clean and parse the feature data"
   ]
  },
  {
   "cell_type": "code",
   "execution_count": 112,
   "id": "a2b3a4d9",
   "metadata": {},
   "outputs": [
    {
     "name": "stdout",
     "output_type": "stream",
     "text": [
      "\n",
      " Cleaning and parsing the feature data\n",
      "\n",
      "Sentence 100 of 2958\n",
      "\n",
      "Sentence 200 of 2958\n",
      "\n",
      "Sentence 300 of 2958\n",
      "\n",
      "Sentence 400 of 2958\n",
      "\n",
      "Sentence 500 of 2958\n",
      "\n",
      "Sentence 600 of 2958\n",
      "\n",
      "Sentence 700 of 2958\n",
      "\n",
      "Sentence 800 of 2958\n",
      "\n",
      "Sentence 900 of 2958\n",
      "\n",
      "Sentence 1000 of 2958\n",
      "\n",
      "Sentence 1100 of 2958\n",
      "\n",
      "Sentence 1200 of 2958\n",
      "\n",
      "Sentence 1300 of 2958\n",
      "\n",
      "Sentence 1400 of 2958\n",
      "\n",
      "Sentence 1500 of 2958\n",
      "\n",
      "Sentence 1600 of 2958\n",
      "\n",
      "Sentence 1700 of 2958\n",
      "\n",
      "Sentence 1800 of 2958\n",
      "\n",
      "Sentence 1900 of 2958\n",
      "\n",
      "Sentence 2000 of 2958\n",
      "\n",
      "Sentence 2100 of 2958\n",
      "\n",
      "Sentence 2200 of 2958\n",
      "\n",
      "Sentence 2300 of 2958\n",
      "\n",
      "Sentence 2400 of 2958\n",
      "\n",
      "Sentence 2500 of 2958\n",
      "\n",
      "Sentence 2600 of 2958\n",
      "\n",
      "Sentence 2700 of 2958\n",
      "\n",
      "Sentence 2800 of 2958\n",
      "\n",
      "Sentence 2900 of 2958\n",
      "\n"
     ]
    }
   ],
   "source": [
    "print (\"\\n Cleaning and parsing the feature data\\n\")\n",
    "clean_features = []\n",
    "for i in range( 0, len(features)):\n",
    "    if( (i+1)%100 == 0 ):\n",
    "        print (\"Sentence %d of %d\\n\" % ( i+1, num_sentences )  )  \n",
    "\n",
    "    clean_features.append(\" \".join(tm.processSentence(features[i])))"
   ]
  },
  {
   "cell_type": "markdown",
   "id": "135727f6",
   "metadata": {},
   "source": [
    "Print the top 5 sentences on the feature set"
   ]
  },
  {
   "cell_type": "code",
   "execution_count": 113,
   "id": "5e836d7e",
   "metadata": {},
   "outputs": [
    {
     "name": "stdout",
     "output_type": "stream",
     "text": [
      "['explore room', 'send picture', 'face door left', 'face closest door left', 'go room']\n"
     ]
    }
   ],
   "source": [
    "print(clean_features[:5])"
   ]
  },
  {
   "cell_type": "markdown",
   "id": "8dd89e23",
   "metadata": {},
   "source": [
    "Create the bag of words model for the feature set, , and convert to a numpy array"
   ]
  },
  {
   "cell_type": "code",
   "execution_count": 114,
   "id": "7b952010",
   "metadata": {},
   "outputs": [
    {
     "name": "stdout",
     "output_type": "stream",
     "text": [
      "Creating the bag of words...\n",
      "\n"
     ]
    }
   ],
   "source": [
    "print (\"Creating the bag of words...\\n\")\n",
    "vectorizer = CountVectorizer()\n",
    "X = vectorizer.fit_transform(clean_features)\n",
    "X = X.toarray()"
   ]
  },
  {
   "cell_type": "markdown",
   "id": "adc6998c",
   "metadata": {},
   "source": [
    "Split features and target into train and test sets"
   ]
  },
  {
   "cell_type": "code",
   "execution_count": 115,
   "id": "374a31fe",
   "metadata": {},
   "outputs": [],
   "source": [
    "X_train, X_test, y_train, y_test = train_test_split(X, Y, test_size=0.30, random_state=1, stratify=Y)"
   ]
  },
  {
   "cell_type": "markdown",
   "id": "4763b0fa",
   "metadata": {},
   "source": [
    "Print out the labels value counts for the test data"
   ]
  },
  {
   "cell_type": "code",
   "execution_count": 116,
   "id": "78b5a7fa",
   "metadata": {},
   "outputs": [
    {
     "data": {
      "text/plain": [
       "send image    307\n",
       "move          290\n",
       "turn          268\n",
       "stop           21\n",
       "explore         2\n",
       "Name: Dialogue Move, dtype: int64"
      ]
     },
     "execution_count": 116,
     "metadata": {},
     "output_type": "execute_result"
    }
   ],
   "source": [
    "y_test.value_counts()"
   ]
  },
  {
   "cell_type": "markdown",
   "id": "4d8b703b",
   "metadata": {},
   "source": [
    "Initialize a Random Forest classifier with 100 trees\n",
    "Fit the forest to the training set.\n",
    "This may take a few minutes to run"
   ]
  },
  {
   "cell_type": "code",
   "execution_count": 117,
   "id": "8dc15811",
   "metadata": {},
   "outputs": [
    {
     "name": "stdout",
     "output_type": "stream",
     "text": [
      "Training the random forest (this may take a while)...\n"
     ]
    }
   ],
   "source": [
    "print (\"Training the random forest (this may take a while)...\")\n",
    "forest = RandomForestClassifier(n_estimators = 100)\n",
    "forest = forest.fit( X_train, y_train)"
   ]
  },
  {
   "cell_type": "markdown",
   "id": "ce1c91b4",
   "metadata": {},
   "source": [
    "Make predictions for the test set"
   ]
  },
  {
   "cell_type": "code",
   "execution_count": 118,
   "id": "fe8bbf58",
   "metadata": {},
   "outputs": [],
   "source": [
    "y_pred_test = forest.predict(X_test)"
   ]
  },
  {
   "cell_type": "markdown",
   "id": "c6c41ee6",
   "metadata": {},
   "source": [
    "View accuracy score"
   ]
  },
  {
   "cell_type": "code",
   "execution_count": 119,
   "id": "a320b67c",
   "metadata": {},
   "outputs": [
    {
     "data": {
      "text/plain": [
       "0.9673423423423423"
      ]
     },
     "execution_count": 119,
     "metadata": {},
     "output_type": "execute_result"
    }
   ],
   "source": [
    "accuracy_score(y_test, y_pred_test)"
   ]
  },
  {
   "cell_type": "markdown",
   "id": "713af7d3",
   "metadata": {},
   "source": [
    "View confusion matrix for test data and predictions"
   ]
  },
  {
   "cell_type": "code",
   "execution_count": 120,
   "id": "c26731e3",
   "metadata": {},
   "outputs": [
    {
     "data": {
      "text/plain": [
       "array([[  0,   2,   0,   0,   0],\n",
       "       [  0, 277,   2,   3,   8],\n",
       "       [  0,   3, 303,   0,   1],\n",
       "       [  0,   2,   0,  19,   0],\n",
       "       [  0,   5,   3,   0, 260]], dtype=int64)"
      ]
     },
     "execution_count": 120,
     "metadata": {},
     "output_type": "execute_result"
    }
   ],
   "source": [
    "confusion_matrix(y_test, y_pred_test)"
   ]
  },
  {
   "cell_type": "markdown",
   "id": "09509454",
   "metadata": {},
   "source": [
    "Get and reshape confusion matrix data"
   ]
  },
  {
   "cell_type": "code",
   "execution_count": 121,
   "id": "14ccdcad",
   "metadata": {},
   "outputs": [],
   "source": [
    "matrix = confusion_matrix(y_test, y_pred_test)\n",
    "matrix = matrix.astype('float') / matrix.sum(axis=1)[:, np.newaxis]"
   ]
  },
  {
   "cell_type": "markdown",
   "id": "bad42d32",
   "metadata": {},
   "source": [
    "Build the plot and add labels to the plot"
   ]
  },
  {
   "cell_type": "code",
   "execution_count": 122,
   "id": "7b8cf756",
   "metadata": {
    "scrolled": true
   },
   "outputs": [
    {
     "data": {
      "image/png": "[encoded data removed]",
      "text/plain": [
       "<Figure size 1600x700 with 2 Axes>"
      ]
     },
     "metadata": {},
     "output_type": "display_data"
    }
   ],
   "source": [
    "plt.figure(figsize=(16,7))\n",
    "sns.set(font_scale=1.4)\n",
    "sns.heatmap(matrix, annot=True, annot_kws={'size':10},\n",
    "            cmap=plt.cm.Greens, linewidths=0.2)\n",
    "\n",
    "class_names = ['Explore', 'Move', 'Send Image', 'Stop', 'Turn']\n",
    "tick_marks = np.arange(len(class_names))\n",
    "tick_marks2 = tick_marks + 0.5\n",
    "plt.xticks(tick_marks, class_names, rotation=25)\n",
    "plt.yticks(tick_marks2, class_names, rotation=0)\n",
    "plt.xlabel('Predicted label')\n",
    "plt.ylabel('True label')\n",
    "plt.title('Confusion Matrix for BOW Model')\n",
    "plt.show()"
   ]
  },
  {
   "cell_type": "markdown",
   "id": "997d175c",
   "metadata": {},
   "source": [
    "View the classification report for test data and predictions"
   ]
  },
  {
   "cell_type": "code",
   "execution_count": 123,
   "id": "f5480b32",
   "metadata": {
    "scrolled": true
   },
   "outputs": [
    {
     "name": "stdout",
     "output_type": "stream",
     "text": [
      "              precision    recall  f1-score   support\n",
      "\n",
      "     explore       0.00      0.00      0.00         2\n",
      "        move       0.96      0.96      0.96       290\n",
      "  send image       0.98      0.99      0.99       307\n",
      "        stop       0.86      0.90      0.88        21\n",
      "        turn       0.97      0.97      0.97       268\n",
      "\n",
      "    accuracy                           0.97       888\n",
      "   macro avg       0.75      0.76      0.76       888\n",
      "weighted avg       0.97      0.97      0.97       888\n",
      "\n"
     ]
    },
    {
     "name": "stderr",
     "output_type": "stream",
     "text": [
      "C:\\Users\\EkeleOgbadu\\anaconda3\\lib\\site-packages\\sklearn\\metrics\\_classification.py:1318: UndefinedMetricWarning: Precision and F-score are ill-defined and being set to 0.0 in labels with no predicted samples. Use `zero_division` parameter to control this behavior.\n",
      "  _warn_prf(average, modifier, msg_start, len(result))\n",
      "C:\\Users\\EkeleOgbadu\\anaconda3\\lib\\site-packages\\sklearn\\metrics\\_classification.py:1318: UndefinedMetricWarning: Precision and F-score are ill-defined and being set to 0.0 in labels with no predicted samples. Use `zero_division` parameter to control this behavior.\n",
      "  _warn_prf(average, modifier, msg_start, len(result))\n",
      "C:\\Users\\EkeleOgbadu\\anaconda3\\lib\\site-packages\\sklearn\\metrics\\_classification.py:1318: UndefinedMetricWarning: Precision and F-score are ill-defined and being set to 0.0 in labels with no predicted samples. Use `zero_division` parameter to control this behavior.\n",
      "  _warn_prf(average, modifier, msg_start, len(result))\n"
     ]
    }
   ],
   "source": [
    "print(classification_report(y_test, y_pred_test))"
   ]
  },
  {
   "cell_type": "code",
   "execution_count": null,
   "id": "51d70617",
   "metadata": {},
   "outputs": [],
   "source": []
  },
  {
   "cell_type": "code",
   "execution_count": null,
   "id": "9e4db5f8",
   "metadata": {},
   "outputs": [],
   "source": []
  }
 ],
 "metadata": {
  "kernelspec": {
   "display_name": "Python 3 (ipykernel)",
   "language": "python",
   "name": "python3"
  },
  "language_info": {
   "codemirror_mode": {
    "name": "ipython",
    "version": 3
   },
   "file_extension": ".py",
   "mimetype": "text/x-python",
   "name": "python",
   "nbconvert_exporter": "python",
   "pygments_lexer": "ipython3",
   "version": "3.9.13"
  }
 },
 "nbformat": 4,
 "nbformat_minor": 5
}
